{
 "cells": [
  {
   "cell_type": "code",
   "execution_count": 39,
   "metadata": {
    "collapsed": true
   },
   "outputs": [],
   "source": [
    "import pandas as pd"
   ]
  },
  {
   "cell_type": "code",
   "execution_count": 40,
   "metadata": {
    "collapsed": false
   },
   "outputs": [],
   "source": [
    "DIF=pd.read_excel(\"TrainerInfo.xlsx\")"
   ]
  },
  {
   "cell_type": "code",
   "execution_count": 41,
   "metadata": {
    "collapsed": false
   },
   "outputs": [],
   "source": [
    "dif = pd.DataFrame(DIF, columns = ['DayInLife'])"
   ]
  },
  {
   "cell_type": "code",
   "execution_count": 42,
   "metadata": {
    "collapsed": false
   },
   "outputs": [
    {
     "data": {
      "text/plain": [
       "<bound method DataFrame.count of                                               DayInLife\n",
       "0     We usually wake up at 6:30. Between then and 8...\n",
       "1     Weekdays:   -Wake up 6 AM, go for a run/roller...\n",
       "2     I live with my husband in a small brick house ...\n",
       "3     We live in a small, two story house in the sma...\n",
       "4     I am currently working from home.  I have star...\n",
       "5     We are a family of four, my husband Felipe and...\n",
       "6     I am a stay at home mom and writer, so my sche...\n",
       "7     I go to school at 7 and comd home at 4:30. I a...\n",
       "8     My Life    Monday, Tuesday, Thursday--I leave ...\n",
       "9     I have 4 children, the oldest just started col...\n",
       "10    I work from home 5 days a week and don't have ...\n",
       "11    I'm active with my dogs.  I have a 13 year old...\n",
       "12    I live in a suburban neighborhood, walking dis...\n",
       "13    I attend a community college four days out of ...\n",
       "14    Participants-Bruce, Maggie (our 7 yr old golde...\n",
       "15    I am newly retired.  I live in a single family...\n",
       "16    Up at 6:30am  M-F, kids (age 15 and 17) at sch...\n",
       "17    My family and I are very excited about becomin...\n",
       "18    My typical day (M-F) is to get up at 6am and b...\n",
       "19    I am a full time hospice nurse, who visits pat...\n",
       "20    I live in a single family home in Severna Park...\n",
       "21    I'm 53 years old and in good health. Retired i...\n",
       "22    cynthia- wake up, shower, day care kids arrive...\n",
       "23    Overall, I have a flexible schedule. My work w...\n",
       "24    I will be a senior this year at LOLHS. Our sch...\n",
       "25    My household is made up of just my husband and...\n",
       "26    Most of my day is flexible. I stay home with t...\n",
       "27    A typical day is getting up around 7am to driv...\n",
       "28    We live in a country setting on 22 acres of la...\n",
       "29    I live with my parents in a pretty big house. ...\n",
       "...                                                 ...\n",
       "1658  I am only a housemate. I have a completely dif...\n",
       "1659  I am mostly at home - live in house with backy...\n",
       "1660  Audrey will be the sole puppy raiser, of cours...\n",
       "1661  i am reitred, it have the whole for the attent...\n",
       "1662  When I get out of school, I'm a school nurse, ...\n",
       "1663  On my typical day, I will be attending classes...\n",
       "1664  On a typical day I wake up and make myself bre...\n",
       "1665  A typical day currently involves waking up and...\n",
       "1666  Pup can accompany me to work. At home my adult...\n",
       "1667  During the week I work in an office and the pu...\n",
       "1668  I own the best Pet Store Pet Pantry 177 Lower ...\n",
       "1669                                                NaN\n",
       "1670  I am home schooled until mid-afternoon, home m...\n",
       "1671  A typical Monday through Friday:  Wake up abou...\n",
       "1672  wake up at 6am  take pup to get busy  prep foo...\n",
       "1673  I am at school from 8 to 3 until the end of sc...\n",
       "1674  I am self employed in white plains. I will be ...\n",
       "1675  i work two to three days a week from 9-3 and a...\n",
       "1676  Up and out early for school bus.  If not drivi...\n",
       "1677  I work 8-5 from my home, take son to bus stop,...\n",
       "1678  pup wakes, outside to get busy  pup teathered ...\n",
       "1679  I am currently not working outside of the home...\n",
       "1680  My family consists of my husband, Rich, my gro...\n",
       "1681  terri - leave 715 monday -fri home by 5  mike-...\n",
       "1682  I am fifteen years old so I go to school every...\n",
       "1683  early mornng walk and feed  late morning walk ...\n",
       "1684  I go to school before 7:00am.  I get back from...\n",
       "1685  I teach two classes at Montgomery College so I...\n",
       "1686  loose schedule so can easily incorporate train...\n",
       "1687                                                NaN\n",
       "\n",
       "[1688 rows x 1 columns]>"
      ]
     },
     "execution_count": 42,
     "metadata": {},
     "output_type": "execute_result"
    }
   ],
   "source": [
    "dif.count\n"
   ]
  },
  {
   "cell_type": "code",
   "execution_count": 43,
   "metadata": {
    "collapsed": true
   },
   "outputs": [],
   "source": [
    "import os\n",
    "import re\n",
    "\n",
    "import pandas as pd\n",
    "\n",
    "from bs4 import BeautifulSoup\n",
    "from nltk.corpus import stopwords\n",
    "\n",
    "from sklearn.feature_extraction.text import CountVectorizer\n",
    "from sklearn.datasets import dump_svmlight_file"
   ]
  },
  {
   "cell_type": "code",
   "execution_count": 44,
   "metadata": {
    "collapsed": false
   },
   "outputs": [],
   "source": [
    "lower_dif=dif.apply(lambda x: x.astype(str).str.lower())"
   ]
  },
  {
   "cell_type": "code",
   "execution_count": 45,
   "metadata": {
    "collapsed": false
   },
   "outputs": [
    {
     "data": {
      "text/plain": [
       "<bound method NDFrame.head of                                               DayInLife\n",
       "0     we usually wake up at 6:30. between then and 8...\n",
       "1     weekdays:   -wake up 6 am, go for a run/roller...\n",
       "2     i live with my husband in a small brick house ...\n",
       "3     we live in a small, two story house in the sma...\n",
       "4     i am currently working from home.  i have star...\n",
       "5     we are a family of four, my husband felipe and...\n",
       "6     i am a stay at home mom and writer, so my sche...\n",
       "7     i go to school at 7 and comd home at 4:30. i a...\n",
       "8     my life    monday, tuesday, thursday--i leave ...\n",
       "9     i have 4 children, the oldest just started col...\n",
       "10    i work from home 5 days a week and don't have ...\n",
       "11    i'm active with my dogs.  i have a 13 year old...\n",
       "12    i live in a suburban neighborhood, walking dis...\n",
       "13    i attend a community college four days out of ...\n",
       "14    participants-bruce, maggie (our 7 yr old golde...\n",
       "15    i am newly retired.  i live in a single family...\n",
       "16    up at 6:30am  m-f, kids (age 15 and 17) at sch...\n",
       "17    my family and i are very excited about becomin...\n",
       "18    my typical day (m-f) is to get up at 6am and b...\n",
       "19    i am a full time hospice nurse, who visits pat...\n",
       "20    i live in a single family home in severna park...\n",
       "21    i'm 53 years old and in good health. retired i...\n",
       "22    cynthia- wake up, shower, day care kids arrive...\n",
       "23    overall, i have a flexible schedule. my work w...\n",
       "24    i will be a senior this year at lolhs. our sch...\n",
       "25    my household is made up of just my husband and...\n",
       "26    most of my day is flexible. i stay home with t...\n",
       "27    a typical day is getting up around 7am to driv...\n",
       "28    we live in a country setting on 22 acres of la...\n",
       "29    i live with my parents in a pretty big house. ...\n",
       "...                                                 ...\n",
       "1658  i am only a housemate. i have a completely dif...\n",
       "1659  i am mostly at home - live in house with backy...\n",
       "1660  audrey will be the sole puppy raiser, of cours...\n",
       "1661  i am reitred, it have the whole for the attent...\n",
       "1662  when i get out of school, i'm a school nurse, ...\n",
       "1663  on my typical day, i will be attending classes...\n",
       "1664  on a typical day i wake up and make myself bre...\n",
       "1665  a typical day currently involves waking up and...\n",
       "1666  pup can accompany me to work. at home my adult...\n",
       "1667  during the week i work in an office and the pu...\n",
       "1668  i own the best pet store pet pantry 177 lower ...\n",
       "1669                                                nan\n",
       "1670  i am home schooled until mid-afternoon, home m...\n",
       "1671  a typical monday through friday:  wake up abou...\n",
       "1672  wake up at 6am  take pup to get busy  prep foo...\n",
       "1673  i am at school from 8 to 3 until the end of sc...\n",
       "1674  i am self employed in white plains. i will be ...\n",
       "1675  i work two to three days a week from 9-3 and a...\n",
       "1676  up and out early for school bus.  if not drivi...\n",
       "1677  i work 8-5 from my home, take son to bus stop,...\n",
       "1678  pup wakes, outside to get busy  pup teathered ...\n",
       "1679  i am currently not working outside of the home...\n",
       "1680  my family consists of my husband, rich, my gro...\n",
       "1681  terri - leave 715 monday -fri home by 5  mike-...\n",
       "1682  i am fifteen years old so i go to school every...\n",
       "1683  early mornng walk and feed  late morning walk ...\n",
       "1684  i go to school before 7:00am.  i get back from...\n",
       "1685  i teach two classes at montgomery college so i...\n",
       "1686  loose schedule so can easily incorporate train...\n",
       "1687                                                nan\n",
       "\n",
       "[1688 rows x 1 columns]>"
      ]
     },
     "execution_count": 45,
     "metadata": {},
     "output_type": "execute_result"
    }
   ],
   "source": [
    "lower_dif.head\n"
   ]
  },
  {
   "cell_type": "code",
   "execution_count": 46,
   "metadata": {
    "collapsed": false
   },
   "outputs": [],
   "source": [
    "lower_dif['DayInLife'] = lower_dif['DayInLife'].map(lambda x: re.sub(r'\\W+', '', x))"
   ]
  },
  {
   "cell_type": "code",
   "execution_count": 47,
   "metadata": {
    "collapsed": false
   },
   "outputs": [
    {
     "data": {
      "text/plain": [
       "<bound method NDFrame.head of 0       weusuallywakeupat630betweenthenand830threekids...\n",
       "1       weekdayswakeup6amgoforarunrollerbladeshowerwor...\n",
       "2       ilivewithmyhusbandinasmallbrickhousewithafully...\n",
       "3       weliveinasmalltwostoryhouseinthesmallvillageof...\n",
       "4       iamcurrentlyworkingfromhomeihavestartedafloris...\n",
       "5       weareafamilyoffourmyhusbandfelipeandiweareboth...\n",
       "6       iamastayathomemomandwritersomyscheduleisfairly...\n",
       "7       igotoschoolat7andcomdhomeat430iamusuallyhomefo...\n",
       "8       mylifemondaytuesdaythursdayileaveforschoolatar...\n",
       "9       ihave4childrentheoldestjuststartedcollegetheot...\n",
       "10      iworkfromhome5daysaweekanddonthavetotravelforw...\n",
       "11      imactivewithmydogsihavea13yearoldnovascotiaduc...\n",
       "12      iliveinasuburbanneighborhoodwalkingdistanceton...\n",
       "13      iattendacommunitycollegefourdaysoutoftheweektu...\n",
       "14      participantsbrucemaggieour7yroldgoldenretrieve...\n",
       "15      iamnewlyretirediliveinasinglefamilyhouseinoxfo...\n",
       "16      upat630ammfkidsage15and17atschoolandpracticeun...\n",
       "17      myfamilyandiareveryexcitedaboutbecomingguiding...\n",
       "18      mytypicaldaymfistogetupat6amandbeoutthedoorby6...\n",
       "19      iamafulltimehospicenursewhovisitspatientsonafl...\n",
       "20      iliveinasinglefamilyhomeinsevernaparkmdaveryfa...\n",
       "21      im53yearsoldandingoodhealthretiredin122014from...\n",
       "22      cynthiawakeupshowerdaycarekidsarrivemorningact...\n",
       "23      overallihaveaflexibleschedulemyworkweekismonda...\n",
       "24      iwillbeaseniorthisyearatlolhsourschooldayisfro...\n",
       "25      myhouseholdismadeupofjustmyhusbandandmewecurre...\n",
       "26      mostofmydayisflexibleistayhomewithtwodaughters...\n",
       "27      atypicaldayisgettinguparound7amtodrivemydaught...\n",
       "28      weliveinacountrysettingon22acresoflandwehavema...\n",
       "29      ilivewithmyparentsinaprettybighouseiamastudent...\n",
       "                              ...                        \n",
       "1658    iamonlyahousemateihaveacompletelydifferentsche...\n",
       "1659    iammostlyathomeliveinhousewithbackyardandsocia...\n",
       "1660    audreywillbethesolepuppyraiserofcourseherdadan...\n",
       "1661    iamreitredithavethewholefortheattentionofthepu...\n",
       "1662    whenigetoutofschoolimaschoolnursewewilltakeapu...\n",
       "1663    onmytypicaldayiwillbeattendingclassesanddoingv...\n",
       "1664    onatypicaldayiwakeupandmakemyselfbreakfaststar...\n",
       "1665    atypicaldaycurrentlyinvolveswakingupandhavinga...\n",
       "1666    pupcanaccompanymetoworkathomemyadultdaughteran...\n",
       "1667    duringtheweekiworkinanofficeandthepupwouldbeab...\n",
       "1668    iownthebestpetstorepetpantry177lowermainestfre...\n",
       "1669                                                  nan\n",
       "1670    iamhomeschooleduntilmidafternoonhomemostofthed...\n",
       "1671    atypicalmondaythroughfridaywakeupabout7am7730a...\n",
       "1672    wakeupat6amtakepuptogetbusyprepfoodforpupfeedp...\n",
       "1673    iamatschoolfrom8to3untiltheendofschoolduringth...\n",
       "1674    iamselfemployedinwhiteplainsiwillbeabletobring...\n",
       "1675    iworktwotothreedaysaweekfrom93andalsospendtmew...\n",
       "1676    upandoutearlyforschoolbusifnotdrivingwalkearly...\n",
       "1677    iwork85frommyhometakesontobusstophavetimeforbr...\n",
       "1678    pupwakesoutsidetogetbusypupteatheredwhilebreak...\n",
       "1679    iamcurrentlynotworkingoutsideofthehomesomydayc...\n",
       "1680    myfamilyconsistsofmyhusbandrichmygrownsonjonat...\n",
       "1681    terrileave715mondayfrihomeby5mikeworkfromhomee...\n",
       "1682    iamfifteenyearsoldsoigotoschooleverydayfrom823...\n",
       "1683    earlymornngwalkandfeedlatemorningwalkandplayea...\n",
       "1684    igotoschoolbefore700amigetbackfromschoolat245p...\n",
       "1685    iteachtwoclassesatmontgomerycollegesoiamoutfor...\n",
       "1686    looseschedulesocaneasilyincorporatetrainingnee...\n",
       "1687                                                  nan\n",
       "Name: DayInLife, dtype: object>"
      ]
     },
     "execution_count": 47,
     "metadata": {},
     "output_type": "execute_result"
    }
   ],
   "source": [
    "lower_dif['DayInLife'].head"
   ]
  },
  {
   "cell_type": "code",
   "execution_count": null,
   "metadata": {
    "collapsed": true
   },
   "outputs": [],
   "source": []
  }
 ],
 "metadata": {
  "anaconda-cloud": {},
  "kernelspec": {
   "display_name": "Python [Root]",
   "language": "python",
   "name": "Python [Root]"
  },
  "language_info": {
   "codemirror_mode": {
    "name": "ipython",
    "version": 3
   },
   "file_extension": ".py",
   "mimetype": "text/x-python",
   "name": "python",
   "nbconvert_exporter": "python",
   "pygments_lexer": "ipython3",
   "version": "3.5.2"
  }
 },
 "nbformat": 4,
 "nbformat_minor": 0
}
