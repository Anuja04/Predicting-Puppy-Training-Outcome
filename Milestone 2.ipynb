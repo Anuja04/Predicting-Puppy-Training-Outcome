{
 "cells": [
  {
   "cell_type": "markdown",
   "metadata": {},
   "source": [
    "# Milestone 2\n",
    "\n",
    "Fix data preprocessing and observe effect on training with various data patterns."
   ]
  },
  {
   "cell_type": "code",
   "execution_count": 1,
   "metadata": {
    "collapsed": true
   },
   "outputs": [],
   "source": [
    "import pandas as pd\n",
    "import numpy as np\n",
    "from collections import Counter\n",
    "from matplotlib import pyplot as plt\n",
    "import seaborn as sns\n",
    "import re"
   ]
  },
  {
   "cell_type": "code",
   "execution_count": 28,
   "metadata": {
    "scrolled": false
   },
   "outputs": [
    {
     "name": "stdout",
     "output_type": "stream",
     "text": [
      "4782 28063 1688\n"
     ]
    }
   ],
   "source": [
    "# Read CSV Files\n",
    "puppy_info = pd.read_excel('PuppyInfo.xls')\n",
    "puppy_trainer_outcome = pd.read_excel('PuppyTrainerOutcome.xlsx')\n",
    "trainer_info = pd.read_excel('TrainerInfo.xlsx')\n",
    "\n",
    "print(len(puppy_info), len(puppy_trainer_outcome), len(trainer_info))"
   ]
  },
  {
   "cell_type": "code",
   "execution_count": 29,
   "metadata": {
    "collapsed": true
   },
   "outputs": [],
   "source": [
    "puppy_info_rename = {\n",
    "    'ogr_DogID': 'DogID',\n",
    "    'Raiser_psn_PersonID': 'PersonID',\n",
    "    'ExericeAmount': 'ExerciseAmount'\n",
    "}\n",
    "puppy_trainer_outcome_rename = {\n",
    "    'dog_DogID': 'DogID',\n",
    "    'ogr_PersonID': 'PersonID'\n",
    "}\n",
    "\n",
    "puppy_info.rename(columns=puppy_info_rename, inplace=True)\n",
    "puppy_trainer_outcome.rename(columns=puppy_trainer_outcome_rename, inplace=True)"
   ]
  },
  {
   "cell_type": "markdown",
   "metadata": {},
   "source": [
    "## Milestone 1 Code\n",
    "\n",
    "Cleaned up and updated preprocessing code from milestone 1."
   ]
  },
  {
   "cell_type": "code",
   "execution_count": 30,
   "metadata": {
    "collapsed": true
   },
   "outputs": [],
   "source": [
    "# Convert classes to cardinal values:\n",
    "def col_classes_to_cardinal(df, col):\n",
    "    col_set = df[col].unique()\n",
    "    class_map = {}\n",
    "    \n",
    "    # Create mappings from classes to cardinal numbers\n",
    "    for x in range(len(col_set)):\n",
    "        class_map[col_set[x]] = x\n",
    "        \n",
    "    # Apply mapping\n",
    "    return df[col].map(lambda x: class_map[x])"
   ]
  },
  {
   "cell_type": "code",
   "execution_count": 31,
   "metadata": {
    "collapsed": true
   },
   "outputs": [],
   "source": [
    "# Preprocess the sex column\n",
    "def process_sex(df):\n",
    "    # Mappings to proper label\n",
    "    target_for_values = {\n",
    "        'F': ['bitch','remale','f','Female','fem','fema;e','F','    F','Femae','Femail','Femaile','Femal','Femal3','Female','Femalw','femle','FEMALE','female','Girl','ID#2099','girl','n/a','None','own','Unknown','1364 & 655','1112/1329','065 102 601','2052','2235','11796','1972','1677','1649','1590','1395','1070','219','0','696','1018','ID# 2099','femal','femalw','Famale','femaile','femail'],\n",
    "        'M': ['Male','1110','1231','1627','1644','1766','1870','2019','??','1JJ11','boy','Crate from Val and Jim Hazlin','don\\'t have one.','M - neutered','maie','Mail','Maile','Make','make','Male - neutered','male (neutered)','\"Male, neutered\"','Male1832','mine doesn\\'t have a number?','N/A','NA','Neutered Male','new crate','none','own crate','Weren\\'t given a crate','m','male','MALE','Male', 'Male','neutered mail','mail','Male, neutered',' Neutered Male']\n",
    "    }\n",
    "    \n",
    "    # Map to labels\n",
    "    for k, v in target_for_values.items():\n",
    "        df.loc[df.Sex.isin(v), 'Sex'] = k\n",
    "    \n",
    "    # Replace empty values with value for Male\n",
    "    df['Sex'].fillna('M', inplace=True)\n",
    "\n",
    "    # Convert classes to cardinal values\n",
    "    df['Sex'] = puppy_info['Sex'].map({'F': 0, 'M': 1, 0: 0, 1: 1}).astype(int)"
   ]
  },
  {
   "cell_type": "code",
   "execution_count": 32,
   "metadata": {
    "collapsed": true
   },
   "outputs": [],
   "source": [
    "# Preprocess the attends_classes column\n",
    "def process_attends_classes(df):\n",
    "    # Replace missing values with the mean value 4.0\n",
    "    df['AttendsClasses'].fillna(4.0, inplace=True)"
   ]
  },
  {
   "cell_type": "code",
   "execution_count": 33,
   "metadata": {
    "collapsed": true
   },
   "outputs": [],
   "source": [
    "# Preproces the exerice_amount column\n",
    "def process_exercise_amount(df):\n",
    "    # Method to get the first number found in a string\n",
    "    def get_first_number(string):\n",
    "        find_num = re.search(r'\\d+', string)\n",
    "        if(find_num == None):\n",
    "            # Process words into numbers representing minutes\n",
    "            if \"one\" in string or \"an hour\" in string:\n",
    "                return 60\n",
    "            elif \"two\" in string:\n",
    "                return 120\n",
    "            elif \"three\" in string:\n",
    "                return 180\n",
    "            elif \"hour and half\" in string:\n",
    "                return 90\n",
    "            elif \"twenty\" in string:\n",
    "                return 20\n",
    "            elif \"forty\" in string:\n",
    "                return 45\n",
    "            elif \"hour\" in string and not \"hours\" in string:\n",
    "                return 60\n",
    "            return 0\n",
    "\n",
    "        # Process numbers into minute values\n",
    "        num = int(find_num.group())\n",
    "        if int(num < 10):\n",
    "            return num*60\n",
    "        return num\n",
    "    \n",
    "    # Method to group values together\n",
    "    def averageTime(num, replaceZeroValue=60):\n",
    "        if num == 0:\n",
    "            return replaceZeroValue\n",
    "\n",
    "        time_classes = [0, 20, 40, 60, 90, 120, 180, 440]\n",
    "        for time_val in time_classes:\n",
    "            if time_val >= num:\n",
    "                return time_val\n",
    "\n",
    "        return 440\n",
    "    \n",
    "    # Change to lowercase to regularize text and then map it\n",
    "    puppy_exercise_amt = df[\"ExerciseAmount\"].map(lambda x: str(x).lower())\n",
    "    puppy_exercise_processed = list(map(lambda x: averageTime(int(get_first_number(str(x)))), puppy_exercise_amt))\n",
    "\n",
    "    # Apply values to the column\n",
    "    df[\"ExerciseAmount\"] = puppy_exercise_processed"
   ]
  },
  {
   "cell_type": "code",
   "execution_count": 34,
   "metadata": {
    "collapsed": true
   },
   "outputs": [],
   "source": [
    "# Preprocess the breed column\n",
    "def process_breed(df):\n",
    "    # Method to process breed values\n",
    "    def breed_mappings(breed):\n",
    "        if breed == \"golden labrador\" or breed == \"golden lab\":\n",
    "            return \"golden labrador\"\n",
    "        elif breed in [\"belgian shepherd\", \"belgen sharpart\"]:\n",
    "            return \"belgian shepherd\"\n",
    "        elif \"rador\" in breed or \"lab\" in breed or breed[0:2] == \"la\" or breed in [\"lr\", \"l\", \"bl\", \"labrador retriever\"]:\n",
    "            return \"labrador retriever\"\n",
    "        elif \"german shep\" in breed or breed in [\"gs\", \"gds\", \"greman shepherd\", \"geman shepherd\", \"gsd\", \"gsp\", \"g.s.\", \"german shepherd\"] or \"german sh\" in breed or \"shep\" in breed:\n",
    "            return \"german shepherd\"\n",
    "        elif breed in [\"gr\", \"golden retriever\"] or \"golden retr\" in breed:\n",
    "            return \"golden retriever\"\n",
    "        elif breed in [\"unknown\", \"black\", \"golden\", \"lym\", \"lbm\", \"ly m\", \"ged\", \"gdd\", \"noble\", \"nan\"]:\n",
    "            # Replace with the most common dog breed: Labrador retriever\n",
    "            return \"labrador retriever\"\n",
    "            # return \"unknown\"\n",
    "        else:\n",
    "            return breed\n",
    "    \n",
    "    # Map breed values and apply it to df\n",
    "    df[\"Breed\"] = df[\"Breed\"].map(lambda x: breed_mappings(str(x).lower()))\n",
    "    \n",
    "    # Convert to cardinal values\n",
    "    # df[\"Breed\"] = col_classes_to_cardinal(df, \"Breed\")\n",
    "    "
   ]
  },
  {
   "cell_type": "code",
   "execution_count": 35,
   "metadata": {
    "collapsed": true
   },
   "outputs": [],
   "source": [
    "# Preprocess the color column\n",
    "def process_color(df):\n",
    "    target_for_color = {\n",
    "        'Sable': ['Coated Sable','Sable','sable'],\n",
    "        'Yellow': ['blond','Blond/Yellow','Blonde','blondelab lode','Butterscotch','Carmel Yellow','cream','Cream','darkish brown','fox red','Gold','gold','golden','GOLDEN','Golden Yellow','Lab','light tan','light yellow','Light Yellow','red','Red','Red Fox','Rust','Tan','tan','WELLOW','Wheat','white','White','White and yellow','White/Yellow','Y','y','yel','Yel','Yellllow','Yello','YELLO','yello','yelloiw','Yellow','yellow','YELLOW','Yellow - Dark','Yellow (red)','Yellow & White','yellow lab','Yellow with black trim','Yellow/Butterscotch','yellow/cream','Yellow/White','yellow1','yellowf','Light yellow','Yellowf'],\n",
    "        'Golden': ['camel','golden/red','goldish','honey','Light Golden','Medium Gold','red/gold','reddish gold','warm gold','warm honey','Tan/Gold'],\n",
    "        'Black/tan': ['B & T','b/t','B&T','B+T','bl and tan','Black & Tan','Black &tan','Black + Tan','Black and ran','Black and tan','Black and tan (?)','Black Brown','black tan','black w/ tan','Black, tan','Black, tan, silver','Black,tan','Black/ Tan','black/brown','Black/Tan','black+ tan','Blk & Tan','Blk and Tan','Blk/Tan','Brown & Black','brown black','Brown-Black','Brown, black','Brown/Black','Brown/Black/Tan','Coated Black','tan and black','Tan/Black','black and tan','Black and Tan','Bicolor (Black & red)','Bicolor (black w/ brown legs)','Black & red','Black and ran','Black and Red','black and white','Tri','Tri color','Brindle','GSD','B/T','b&t','Black / Tan','black & tan','black, tan','Black/tan','blk and tan','Blk/TAn','tan/black','Blk and tan','Black & tan','black/tan',],\n",
    "        'Black': ['Color', 'B','Bl','Bl','blac','black (and beautiful)','blck,','Blk','Blk.','blsck','back','black','BLACK','blk','BLK','color','lab',' Black','blck','Back','BLK.','BLack','nan']\n",
    "    }\n",
    "    \n",
    "    # Replace messy color values\n",
    "    for k, v in target_for_color.items():\n",
    "        df.loc[df.Color.isin(v), 'Color'] = k\n",
    "    \n",
    "    # Replaced missing values with Black\n",
    "    df['Color'].fillna('Black',inplace = True)\n",
    "    \n",
    "    # # Conver to cardinal values\n",
    "    # df['Color'] = col_classes_to_cardinal(df, 'Color')"
   ]
  },
  {
   "cell_type": "code",
   "execution_count": 36,
   "metadata": {},
   "outputs": [
    {
     "name": "stderr",
     "output_type": "stream",
     "text": [
      "/Users/williamnguyen/anaconda3/envs/cs274/lib/python3.6/site-packages/ipykernel_launcher.py:4: SettingWithCopyWarning: \n",
      "A value is trying to be set on a copy of a slice from a DataFrame\n",
      "\n",
      "See the caveats in the documentation: http://pandas.pydata.org/pandas-docs/stable/indexing.html#indexing-view-versus-copy\n",
      "  after removing the cwd from sys.path.\n"
     ]
    }
   ],
   "source": [
    "# Preprocess the status column\n",
    "def process_status(df):    \n",
    "    df['dog_SubStatusCode'].replace([23,25,26,27,55,98,121,169],[1,1,1,1,1,1,1,1], inplace=True)\n",
    "    df['dog_SubStatusCode'][df.dog_SubStatusCode != 1] = 0\n",
    "\n",
    "process_status(puppy_trainer_outcome)"
   ]
  },
  {
   "cell_type": "code",
   "execution_count": 37,
   "metadata": {},
   "outputs": [
    {
     "name": "stdout",
     "output_type": "stream",
     "text": [
      "1    2400\n",
      "0    2382\n",
      "Name: Sex, dtype: int64\n",
      "60     2137\n",
      "120     924\n",
      "90      608\n",
      "40      604\n",
      "180     263\n",
      "20      147\n",
      "440      99\n",
      "Name: ExerciseAmount, dtype: int64\n",
      "labrador retriever    4397\n",
      "german shepherd        347\n",
      "golden retriever        33\n",
      "golden labrador          4\n",
      "belgian shepherd         1\n",
      "Name: Breed, dtype: int64\n",
      "Yellow       2281\n",
      "Black        2087\n",
      "Black/tan     348\n",
      "Sable          40\n",
      "Golden         26\n",
      "Name: Color, dtype: int64\n"
     ]
    }
   ],
   "source": [
    "# Perform all preprocessing steps\n",
    "\n",
    "process_sex(puppy_info)\n",
    "print(puppy_info['Sex'].value_counts())\n",
    "\n",
    "process_attends_classes(puppy_info)\n",
    "\n",
    "process_exercise_amount(puppy_info)\n",
    "print(puppy_info['ExerciseAmount'].value_counts())\n",
    "\n",
    "process_breed(puppy_info)\n",
    "print(puppy_info['Breed'].value_counts())\n",
    "\n",
    "process_color(puppy_info)\n",
    "print(puppy_info['Color'].value_counts())"
   ]
  },
  {
   "cell_type": "markdown",
   "metadata": {},
   "source": [
    "## Part 1\n",
    " Based on the feedback in your milestone 1, prepare your data again that would meet the better prediction goal. Explain any steps you do and how it will help. Prepare 5 or more sets of data with varying number of features. 10 features that you selected in Milestone 1 should be one of these 5 cases."
   ]
  },
  {
   "cell_type": "code",
   "execution_count": 73,
   "metadata": {
    "scrolled": true
   },
   "outputs": [],
   "source": [
    "from sklearn.preprocessing import LabelEncoder, LabelBinarizer\n",
    "\n",
    "OHE_columns = {}\n",
    "\n",
    "# Encode Values into a new column\n",
    "def column_encode(df, col_name):\n",
    "    lb_make = LabelEncoder()\n",
    "    df[col_name + \"_encoded\"] = lb_make.fit_transform(df[col_name])\n",
    "\n",
    "# One Hot Encoder\n",
    "def one_hot_encode(df, col_name):\n",
    "    lb_style = LabelBinarizer()\n",
    "    lb_results = lb_style.fit_transform(df[col_name])\n",
    "    new_df = pd.DataFrame(lb_results, columns=lb_style.classes_)\n",
    "    \n",
    "    # Add new_df to df\n",
    "    print(\"New columns added:\")\n",
    "    for x in new_df:\n",
    "        new_col_name = str(col_name) + \"-\" + str(x)\n",
    "        if isinstance(x, np.float64):\n",
    "            new_col_name = str(col_name) + \"-\" + str(int(x))\n",
    "            \n",
    "        df[new_col_name] = new_df[x]\n",
    "        print(\" * \" + new_col_name)\n",
    "        \n",
    "        if col_name not in OHE_columns:\n",
    "            OHE_columns[col_name] = []\n",
    "        OHE_columns[col_name].append(new_col_name)"
   ]
  },
  {
   "cell_type": "code",
   "execution_count": 74,
   "metadata": {
    "scrolled": true
   },
   "outputs": [
    {
     "name": "stdout",
     "output_type": "stream",
     "text": [
      "New columns added:\n",
      " * Breed-belgian shepherd\n",
      " * Breed-german shepherd\n",
      " * Breed-golden labrador\n",
      " * Breed-golden retriever\n",
      " * Breed-labrador retriever\n",
      "New columns added:\n",
      " * AttendsClasses-0\n",
      " * AttendsClasses-1\n",
      " * AttendsClasses-2\n",
      " * AttendsClasses-3\n",
      " * AttendsClasses-4\n",
      " * AttendsClasses-5\n",
      "New columns added:\n",
      " * AttendsHomeSwitches-0\n",
      " * AttendsHomeSwitches-1\n",
      " * AttendsHomeSwitches-2\n",
      " * AttendsHomeSwitches-3\n",
      " * AttendsHomeSwitches-4\n",
      " * AttendsHomeSwitches-5\n",
      "New columns added:\n",
      " * ExerciseAmount-20\n",
      " * ExerciseAmount-40\n",
      " * ExerciseAmount-60\n",
      " * ExerciseAmount-90\n",
      " * ExerciseAmount-120\n",
      " * ExerciseAmount-180\n",
      " * ExerciseAmount-440\n",
      "New columns added:\n",
      " * Housemanners-0\n",
      " * Housemanners-1\n",
      " * Housemanners-2\n",
      " * Housemanners-3\n",
      " * Housemanners-4\n",
      " * Housemanners-5\n",
      "New columns added:\n",
      " * FriendlyWAnimals-0\n",
      " * FriendlyWAnimals-1\n",
      " * FriendlyWAnimals-2\n",
      " * FriendlyWAnimals-3\n",
      " * FriendlyWAnimals-4\n",
      " * FriendlyWAnimals-5\n",
      "New columns added:\n",
      " * JumpOnPeople-0\n",
      " * JumpOnPeople-1\n",
      " * JumpOnPeople-2\n",
      " * JumpOnPeople-3\n",
      " * JumpOnPeople-4\n",
      " * JumpOnPeople-5\n",
      "New columns added:\n",
      " * StaysOnCommand-0\n",
      " * StaysOnCommand-1\n",
      " * StaysOnCommand-2\n",
      " * StaysOnCommand-3\n",
      " * StaysOnCommand-4\n",
      " * StaysOnCommand-5\n",
      "New columns added:\n",
      " * TrafficFear-0\n",
      " * TrafficFear-1\n",
      " * TrafficFear-2\n",
      " * TrafficFear-3\n",
      " * TrafficFear-4\n",
      " * TrafficFear-5\n",
      "New columns added:\n",
      " * Color-Black\n",
      " * Color-Black/tan\n",
      " * Color-Golden\n",
      " * Color-Sable\n",
      " * Color-Yellow\n",
      "New columns added:\n",
      " * Health-0\n",
      " * Health-1\n",
      " * Health-2\n",
      " * Health-3\n",
      " * Health-4\n",
      " * Health-5\n",
      "New columns added:\n",
      " * EnergyLevel-0\n",
      " * EnergyLevel-1\n",
      " * EnergyLevel-2\n",
      " * EnergyLevel-3\n",
      " * EnergyLevel-4\n",
      " * EnergyLevel-5\n",
      "New columns added:\n",
      " * StealsFood-0\n",
      " * StealsFood-1\n",
      " * StealsFood-2\n",
      " * StealsFood-3\n",
      " * StealsFood-4\n",
      " * StealsFood-5\n",
      "New columns added:\n",
      " * BehavesWellClass-0\n",
      " * BehavesWellClass-1\n",
      " * BehavesWellClass-2\n",
      " * BehavesWellClass-3\n",
      " * BehavesWellClass-4\n",
      " * BehavesWellClass-5\n",
      "New columns added:\n",
      " * RaidsGarbage-0\n",
      " * RaidsGarbage-1\n",
      " * RaidsGarbage-2\n",
      " * RaidsGarbage-3\n",
      " * RaidsGarbage-4\n",
      " * RaidsGarbage-5\n",
      "New columns added:\n",
      " * Stairs-0\n",
      " * Stairs-1\n",
      " * Stairs-2\n",
      " * Stairs-3\n",
      " * Stairs-4\n",
      " * Stairs-5\n"
     ]
    }
   ],
   "source": [
    "# Apply One-Hot Encoding to Certain Columns\n",
    "# \n",
    "columns_to_OHE = [\n",
    "    \"Breed\",\n",
    "    \"AttendsClasses\",\n",
    "    \"AttendsHomeSwitches\",\n",
    "    \"ExerciseAmount\",\n",
    "    \"Housemanners\",\n",
    "    \"FriendlyWAnimals\",\n",
    "    \"JumpOnPeople\",\n",
    "    \"StaysOnCommand\",\n",
    "    \"TrafficFear\",\n",
    "    \"Color\",\n",
    "    \"Health\",\n",
    "    \"EnergyLevel\",\n",
    "    \"StealsFood\",\n",
    "    \"BehavesWellClass\",\n",
    "    \"RaidsGarbage\",\n",
    "    \"Stairs\"\n",
    "]\n",
    "for col in columns_to_OHE:\n",
    "    column_encode(puppy_info, col)\n",
    "    one_hot_encode(puppy_info, col)"
   ]
  },
  {
   "cell_type": "markdown",
   "metadata": {},
   "source": [
    "### Merge Data"
   ]
  },
  {
   "cell_type": "code",
   "execution_count": 75,
   "metadata": {
    "scrolled": true
   },
   "outputs": [
    {
     "name": "stdout",
     "output_type": "stream",
     "text": [
      "2138 12677\n"
     ]
    }
   ],
   "source": [
    "puppy_info = puppy_info.drop_duplicates(['DogID'], keep='first')\n",
    "puppy_trainer_outcome = puppy_trainer_outcome.drop_duplicates(['DogID'], keep='first')\n",
    "\n",
    "print(len(puppy_info), len(puppy_trainer_outcome))"
   ]
  },
  {
   "cell_type": "code",
   "execution_count": 76,
   "metadata": {
    "scrolled": true
   },
   "outputs": [
    {
     "name": "stdout",
     "output_type": "stream",
     "text": [
      "2138 rows in puppy_info\n",
      "12677 rows in puppy_trainer_outcome\n",
      "2110 rows in merged data\n"
     ]
    }
   ],
   "source": [
    "puppy_merged = puppy_info.merge(puppy_trainer_outcome, on=['DogID'], how='inner')\n",
    "\n",
    "print(\"%s rows in puppy_info\" % len(puppy_info))\n",
    "print(\"%s rows in puppy_trainer_outcome\" % len(puppy_trainer_outcome))\n",
    "print(\"%s rows in merged data\" % len(puppy_merged))"
   ]
  },
  {
   "cell_type": "code",
   "execution_count": 77,
   "metadata": {
    "collapsed": true
   },
   "outputs": [],
   "source": [
    "desired_columns = [\n",
    "    'StealsFood',\n",
    "    'EnergyLevel',\n",
    "    'JumpOnPeople',\n",
    "    'AttendsClasses',\n",
    "    'FriendlyWAnimals',\n",
    "    'Health',\n",
    "    'AttendsHomeSwitches',\n",
    "    'TrafficFear',\n",
    "    'Sex',\n",
    "    'StaysOnCommand',\n",
    "    'RaidsGarbage',\n",
    "    'BehavesWellClass',\n",
    "    'Stairs',\n",
    "    'Breed',\n",
    "    'Color',\n",
    "    'ExerciseAmount',\n",
    "    'Housemanners',\n",
    "    'dog_SubStatusCode'\n",
    "]\n",
    "\n",
    "desired_columns_processed = []\n",
    "\n",
    "# Only keep OHE columns, not the original columns\n",
    "for col in desired_columns:\n",
    "    if col in OHE_columns:\n",
    "        for OHE_col in OHE_columns[col]:\n",
    "            desired_columns_processed.append(OHE_col)\n",
    "    else:\n",
    "        desired_columns_processed.append(col)\n",
    "        \n",
    "# Write all columns to \n",
    "\n",
    "processed_data = puppy_merged[desired_columns_processed]"
   ]
  },
  {
   "cell_type": "markdown",
   "metadata": {},
   "source": [
    "### Write Data to CSV"
   ]
  },
  {
   "cell_type": "code",
   "execution_count": 78,
   "metadata": {
    "collapsed": true
   },
   "outputs": [],
   "source": [
    "processed_data.to_csv('ProcessedPuppyInfo.csv', index=False)"
   ]
  },
  {
   "cell_type": "markdown",
   "metadata": {},
   "source": [
    "## Part 2\n",
    "For your selected ML algorithm (group 1:Naive Bayes , group 2:Decision Trees , group 3: Linear/Logic Regression, group 4:SVM)\n",
    "\n",
    "a. Test out on your Spark MLLib algorithm on each set of data prepared in (a). Observe the prediction outcome based on puppy info alone and offer explanation.\n",
    "\n",
    "b. Repeat 2.a few times. Do you see consistent prediction for the same set of data when it is randomly split? How about when the data is not randomly split?\n",
    "\n",
    "c. What is the optimal number of features in your datasets from (1) that offers best prediction rate?\n",
    "\n",
    "d. What parameters will in your algorithm will affect the prediction rate? How and why?"
   ]
  },
  {
   "cell_type": "code",
   "execution_count": 83,
   "metadata": {
    "scrolled": true
   },
   "outputs": [
    {
     "name": "stdout",
     "output_type": "stream",
     "text": [
      "\"dog_SubStatusCode\", \"StealsFood-0\", \"StealsFood-1\", \"StealsFood-2\", \"StealsFood-3\", \"StealsFood-4\", \"StealsFood-5\", \"EnergyLevel-0\", \"EnergyLevel-1\", \"EnergyLevel-2\", \"EnergyLevel-3\", \"EnergyLevel-4\", \"EnergyLevel-5\", \"JumpOnPeople-0\", \"JumpOnPeople-1\", \"JumpOnPeople-2\", \"JumpOnPeople-3\", \"JumpOnPeople-4\", \"JumpOnPeople-5\", \"AttendsClasses-0\", \"AttendsClasses-1\", \"AttendsClasses-2\", \"AttendsClasses-3\", \"AttendsClasses-4\", \"AttendsClasses-5\", \"FriendlyWAnimals-0\", \"FriendlyWAnimals-1\", \"FriendlyWAnimals-2\", \"FriendlyWAnimals-3\", \"FriendlyWAnimals-4\", \"FriendlyWAnimals-5\", \"Health-0\", \"Health-1\", \"Health-2\", \"Health-3\", \"Health-4\", \"Health-5\", \"AttendsHomeSwitches-0\", \"AttendsHomeSwitches-1\", \"AttendsHomeSwitches-2\", \"AttendsHomeSwitches-3\", \"AttendsHomeSwitches-4\", \"AttendsHomeSwitches-5\", \"TrafficFear-0\", \"TrafficFear-1\", \"TrafficFear-2\", \"TrafficFear-3\", \"TrafficFear-4\", \"TrafficFear-5\", \"Sex\", \"StaysOnCommand-0\", \"StaysOnCommand-1\", \"StaysOnCommand-2\", \"StaysOnCommand-3\", \"StaysOnCommand-4\", \"StaysOnCommand-5\", \"RaidsGarbage-0\", \"RaidsGarbage-1\", \"RaidsGarbage-2\", \"RaidsGarbage-3\", \"RaidsGarbage-4\", \"RaidsGarbage-5\", \"BehavesWellClass-0\", \"BehavesWellClass-1\", \"BehavesWellClass-2\", \"BehavesWellClass-3\", \"BehavesWellClass-4\", \"BehavesWellClass-5\", \"Stairs-0\", \"Stairs-1\", \"Stairs-2\", \"Stairs-3\", \"Stairs-4\", \"Stairs-5\", \"Breed-belgian shepherd\", \"Breed-german shepherd\", \"Breed-golden labrador\", \"Breed-golden retriever\", \"Breed-labrador retriever\", \"Color-Black\", \"Color-Black/tan\", \"Color-Golden\", \"Color-Sable\", \"Color-Yellow\", \"ExerciseAmount-20\", \"ExerciseAmount-40\", \"ExerciseAmount-60\", \"ExerciseAmount-90\", \"ExerciseAmount-120\", \"ExerciseAmount-180\", \"ExerciseAmount-440\", \"Housemanners-0\", \"Housemanners-1\", \"Housemanners-2\", \"Housemanners-3\", \"Housemanners-4\", \"Housemanners-5\", \n",
      "\n",
      "\"dog_SubStatusCode\", \"AttendsClasses-0\", \"AttendsClasses-1\", \"AttendsClasses-2\", \"AttendsClasses-3\", \"AttendsClasses-4\", \"AttendsClasses-5\", \"AttendsHomeSwitches-0\", \"AttendsHomeSwitches-1\", \"AttendsHomeSwitches-2\", \"AttendsHomeSwitches-3\", \"AttendsHomeSwitches-4\", \"AttendsHomeSwitches-5\", \"ExerciseAmount-20\", \"ExerciseAmount-40\", \"ExerciseAmount-60\", \"ExerciseAmount-90\", \"ExerciseAmount-120\", \"ExerciseAmount-180\", \"ExerciseAmount-440\", \"Breed-belgian shepherd\", \"Breed-german shepherd\", \"Breed-golden labrador\", \"Breed-golden retriever\", \"Breed-labrador retriever\", \"Sex\", \"Housemanners-0\", \"Housemanners-1\", \"Housemanners-2\", \"Housemanners-3\", \"Housemanners-4\", \"Housemanners-5\", \"FriendlyWAnimals-0\", \"FriendlyWAnimals-1\", \"FriendlyWAnimals-2\", \"FriendlyWAnimals-3\", \"FriendlyWAnimals-4\", \"FriendlyWAnimals-5\", \"JumpOnPeople-0\", \"JumpOnPeople-1\", \"JumpOnPeople-2\", \"JumpOnPeople-3\", \"JumpOnPeople-4\", \"JumpOnPeople-5\", \"StaysOnCommand-0\", \"StaysOnCommand-1\", \"StaysOnCommand-2\", \"StaysOnCommand-3\", \"StaysOnCommand-4\", \"StaysOnCommand-5\", \"TrafficFear-0\", \"TrafficFear-1\", \"TrafficFear-2\", \"TrafficFear-3\", \"TrafficFear-4\", \"TrafficFear-5\", \n",
      "\n",
      "\"dog_SubStatusCode\", \"AttendsClasses-0\", \"AttendsClasses-1\", \"AttendsClasses-2\", \"AttendsClasses-3\", \"AttendsClasses-4\", \"AttendsClasses-5\", \"Housemanners-0\", \"Housemanners-1\", \"Housemanners-2\", \"Housemanners-3\", \"Housemanners-4\", \"Housemanners-5\", \"StaysOnCommand-0\", \"StaysOnCommand-1\", \"StaysOnCommand-2\", \"StaysOnCommand-3\", \"StaysOnCommand-4\", \"StaysOnCommand-5\", \"Health-0\", \"Health-1\", \"Health-2\", \"Health-3\", \"Health-4\", \"Health-5\", \"EnergyLevel-0\", \"EnergyLevel-1\", \"EnergyLevel-2\", \"EnergyLevel-3\", \"EnergyLevel-4\", \"EnergyLevel-5\", \n",
      "\n",
      "\"dog_SubStatusCode\", \"Sex\", \"Color-Black\", \"Color-Black/tan\", \"Color-Golden\", \"Color-Sable\", \"Color-Yellow\", \"FriendlyWAnimals-0\", \"FriendlyWAnimals-1\", \"FriendlyWAnimals-2\", \"FriendlyWAnimals-3\", \"FriendlyWAnimals-4\", \"FriendlyWAnimals-5\", \"ExerciseAmount-20\", \"ExerciseAmount-40\", \"ExerciseAmount-60\", \"ExerciseAmount-90\", \"ExerciseAmount-120\", \"ExerciseAmount-180\", \"ExerciseAmount-440\", \"RaidsGarbage-0\", \"RaidsGarbage-1\", \"RaidsGarbage-2\", \"RaidsGarbage-3\", \"RaidsGarbage-4\", \"RaidsGarbage-5\", \n",
      "\n",
      "\"dog_SubStatusCode\", \"StaysOnCommand-0\", \"StaysOnCommand-1\", \"StaysOnCommand-2\", \"StaysOnCommand-3\", \"StaysOnCommand-4\", \"StaysOnCommand-5\", \"Health-0\", \"Health-1\", \"Health-2\", \"Health-3\", \"Health-4\", \"Health-5\", \"FriendlyWAnimals-0\", \"FriendlyWAnimals-1\", \"FriendlyWAnimals-2\", \"FriendlyWAnimals-3\", \"FriendlyWAnimals-4\", \"FriendlyWAnimals-5\", \n",
      "\n",
      "\"dog_SubStatusCode\", \"Color-Black\", \"Color-Black/tan\", \"Color-Golden\", \"Color-Sable\", \"Color-Yellow\", \"Health-0\", \"Health-1\", \"Health-2\", \"Health-3\", \"Health-4\", \"Health-5\", \"EnergyLevel-0\", \"EnergyLevel-1\", \"EnergyLevel-2\", \"EnergyLevel-3\", \"EnergyLevel-4\", \"EnergyLevel-5\", \"StealsFood-0\", \"StealsFood-1\", \"StealsFood-2\", \"StealsFood-3\", \"StealsFood-4\", \"StealsFood-5\", \"BehavesWellClass-0\", \"BehavesWellClass-1\", \"BehavesWellClass-2\", \"BehavesWellClass-3\", \"BehavesWellClass-4\", \"BehavesWellClass-5\", \"RaidsGarbage-0\", \"RaidsGarbage-1\", \"RaidsGarbage-2\", \"RaidsGarbage-3\", \"RaidsGarbage-4\", \"RaidsGarbage-5\", \"Stairs-0\", \"Stairs-1\", \"Stairs-2\", \"Stairs-3\", \"Stairs-4\", \"Stairs-5\", \n",
      "\n"
     ]
    }
   ],
   "source": [
    "# Column Mappings for Feature Selections\n",
    "feature_set_columns = [\n",
    "    [\"dog_SubStatusCode\", 'StealsFood', 'EnergyLevel', 'JumpOnPeople', 'AttendsClasses', 'FriendlyWAnimals', 'Health', 'AttendsHomeSwitches', 'TrafficFear', 'Sex', 'StaysOnCommand', 'RaidsGarbage', 'BehavesWellClass', 'Stairs', 'Breed', 'Color', 'ExerciseAmount', 'Housemanners'],\n",
    "    [\"dog_SubStatusCode\", \"AttendsClasses\", \"AttendsHomeSwitches\", \"ExerciseAmount\", \"Breed\", \"Sex\", \"Housemanners\", \"FriendlyWAnimals\", \"JumpOnPeople\", \"StaysOnCommand\", \"TrafficFear\"],\n",
    "    [\"dog_SubStatusCode\", \"AttendsClasses\", \"Housemanners\", \"StaysOnCommand\", \"Health\", \"EnergyLevel\"],\n",
    "    [\"dog_SubStatusCode\", \"Sex\", \"Color\", \"FriendlyWAnimals\", \"ExerciseAmount\", \"RaidsGarbage\"],\n",
    "    [\"dog_SubStatusCode\", \"StaysOnCommand\", \"Health\", \"FriendlyWAnimals\"],\n",
    "    [\"dog_SubStatusCode\", \"Color\", \"Health\", \"EnergyLevel\", \"StealsFood\", \"BehavesWellClass\", \"RaidsGarbage\", \"Stairs\"]\n",
    "]\n",
    "\n",
    "mapped_feature_set_columns = []\n",
    "\n",
    "for some_set in feature_set_columns:\n",
    "    new_set = []\n",
    "    for col in some_set:\n",
    "        if col in OHE_columns:\n",
    "            for OHE_col in OHE_columns[col]:\n",
    "                new_set.append(OHE_col)\n",
    "        else:\n",
    "            new_set.append(col)\n",
    "    mapped_feature_set_columns.append(new_set)\n",
    "    \n",
    "for some_set in mapped_feature_set_columns:\n",
    "    set_str = \"\"\n",
    "    for col in some_set:\n",
    "        set_str += \"\\\"\" + col + \"\\\", \"\n",
    "    \n",
    "    print(set_str)\n",
    "    print()"
   ]
  },
  {
   "cell_type": "code",
   "execution_count": 84,
   "metadata": {},
   "outputs": [],
   "source": [
    "# Output CSVs for each Feature Set\n",
    "set_names = ['A', 'B', 'C', 'D', 'E', 'F']\n",
    "\n",
    "for i in range(len(mapped_feature_set_columns)):\n",
    "    feature_set = processed_data[mapped_feature_set_columns[i]]\n",
    "    feature_set.to_csv('puppy_info_feature_set_' + set_names[i] + '.csv', index=False)"
   ]
  },
  {
   "cell_type": "code",
   "execution_count": null,
   "metadata": {
    "collapsed": true
   },
   "outputs": [],
   "source": [
    "/FileStore/tables/qb42coi11494469601318/puppy_info_feature_set_A.csv\n",
    "/FileStore/tables/gslsth1d1494469669982/puppy_info_feature_set_B.csv\n",
    "/FileStore/tables/eto03ixw1494469788598/puppy_info_feature_set_C.csv\n",
    "/FileStore/tables/3x5kh0e31494469817043/puppy_info_feature_set_D.csv\n",
    "/FileStore/tables/vf2nxmj91494469852583/puppy_info_feature_set_E.csv\n",
    "/FileStore/tables/yhcafpdn1494469880969/puppy_info_feature_set_F.csv\n"
   ]
  },
  {
   "cell_type": "markdown",
   "metadata": {},
   "source": [
    "## Part 3 \n",
    "Normalization and Feature Extraction of text data\n",
    "\n",
    "Many columns are in verbal text form. One way to make use of these data for learning and prediction purpose is to normalize the given text data and then perform feature extraction. Many methodologies can be applied for machine learning purposes after this step.\n",
    "\n",
    "a. For DayInLife column in TrainerInfo.xslt, normalize all the data within. See text normalization definition in Wiki (Links to an external site.)Links to an external site.\n",
    "\n",
    "b. Perform feature extraction suitable for our prediction need. Explain what feature extraction in Spark MLlib (Links to an external site.)Links to an external site. are useful for this purpose. Show one or more such feature extraction.\n",
    "\n",
    "c. What would you propose to do next after 3.b for our prediction need?"
   ]
  },
  {
   "cell_type": "code",
   "execution_count": null,
   "metadata": {
    "collapsed": true
   },
   "outputs": [],
   "source": []
  },
  {
   "cell_type": "code",
   "execution_count": null,
   "metadata": {
    "collapsed": true
   },
   "outputs": [],
   "source": []
  },
  {
   "cell_type": "code",
   "execution_count": null,
   "metadata": {
    "collapsed": true
   },
   "outputs": [],
   "source": []
  },
  {
   "cell_type": "code",
   "execution_count": null,
   "metadata": {
    "collapsed": true
   },
   "outputs": [],
   "source": []
  },
  {
   "cell_type": "code",
   "execution_count": null,
   "metadata": {
    "collapsed": true
   },
   "outputs": [],
   "source": []
  }
 ],
 "metadata": {
  "kernelspec": {
   "display_name": "Python 3",
   "language": "python",
   "name": "python3"
  },
  "language_info": {
   "codemirror_mode": {
    "name": "ipython",
    "version": 3
   },
   "file_extension": ".py",
   "mimetype": "text/x-python",
   "name": "python",
   "nbconvert_exporter": "python",
   "pygments_lexer": "ipython3",
   "version": "3.6.1"
  }
 },
 "nbformat": 4,
 "nbformat_minor": 2
}
