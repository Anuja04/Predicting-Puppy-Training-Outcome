{
 "cells": [
  {
   "cell_type": "code",
   "execution_count": 105,
   "metadata": {
    "collapsed": true
   },
   "outputs": [],
   "source": [
    "import pandas as pd"
   ]
  },
  {
   "cell_type": "code",
   "execution_count": 109,
   "metadata": {
    "collapsed": false
   },
   "outputs": [
    {
     "name": "stdout",
     "output_type": "stream",
     "text": [
      "dimensionality: (4782, 96)\n"
     ]
    }
   ],
   "source": [
    "print (\"dimensionality:\", puppyinfo.shape)"
   ]
  },
  {
   "cell_type": "code",
   "execution_count": 110,
   "metadata": {
    "collapsed": false
   },
   "outputs": [
    {
     "data": {
      "text/plain": [
       "SurveyID                      0.000000\n",
       "DogID                         0.000000\n",
       "Raiser_psn_PersonID           0.020912\n",
       "Dog                           0.000000\n",
       "Tattoo                        0.000000\n",
       "Age                           0.062735\n",
       "Breed                         0.041824\n",
       "Color                         0.062735\n",
       "Sex                           0.104559\n",
       "VounteerSupervisor           19.636136\n",
       "StaffSupervisor               0.062735\n",
       "RaiserCity                    0.167294\n",
       "RaiserState                   0.083647\n",
       "RaiserZip                     0.418235\n",
       "GoodAppetite                  0.083647\n",
       "FoodAmount                   35.110832\n",
       "FoodType                      0.020912\n",
       "Weight                        0.167294\n",
       "Health                        0.000000\n",
       "HealthComments               72.898369\n",
       "StoolFirm                     0.000000\n",
       "StoolComments                83.416980\n",
       "EnergyLevel                   0.000000\n",
       "ExerciseType                  0.041824\n",
       "ExericeAmount                 0.041824\n",
       "EliminationInCrate            0.000000\n",
       "EliminationCrateComments     88.080301\n",
       "QuietInCrate                  0.000000\n",
       "CrateQuietComments           64.240903\n",
       "RespondsToCommandKennel       0.000000\n",
       "KennelCommandComments        76.787955\n",
       "NoInappropriateChewing        0.000000\n",
       "ChewingComments              56.148055\n",
       "Housemanners                  0.000000\n",
       "HousemannersComments         60.727729\n",
       "LeftUnattended                0.000000\n",
       "LeftUnattendedComments       49.937265\n",
       "EliminationInHouse            0.000000\n",
       "EliminationHouseComments     77.603513\n",
       "PlaybitePeople                0.000000\n",
       "PlaybiteComments             56.440820\n",
       "StealsFood                    0.000000\n",
       "StealFoodComments            68.778754\n",
       "OnFurniture                   0.000000\n",
       "OnFurnitureComments          63.174404\n",
       "BarksExcessively              0.000000\n",
       "BarksExcessivelyComments     49.958176\n",
       "RaidsGarbage                  0.000000\n",
       "RaidsGarbageComments         64.826432\n",
       "CounterSurfingJumpOnDoors     0.000000\n",
       "CountersDoorsComments        72.459222\n",
       "JumpOnPeople                  0.000000\n",
       "JumpsComments                40.192388\n",
       "FriendlyWAnimals              0.000000\n",
       "FriendlyWAnimalsComments     69.866165\n",
       "GoodWKids                     0.000000\n",
       "KidsComments                 75.282309\n",
       "GoodWStrangers                0.000000\n",
       "StrangerComments             81.514011\n",
       "WalksWellOnLeash              0.000000\n",
       "WalkingComments              51.003764\n",
       "KnowCommandGetBusy            0.000000\n",
       "GetBusyComments              77.101631\n",
       "EliminatesOnRoute             0.000000\n",
       "EliminateRouteComments       62.944375\n",
       "ChasingAnimals                0.000000\n",
       "ChaseComment                 50.731911\n",
       "TrafficFear                   0.000000\n",
       "TrafficComments              73.609368\n",
       "NoiseFear                     0.000000\n",
       "NoiseComments                72.793810\n",
       "Stairs                        0.000000\n",
       "StairsComments               80.071100\n",
       "SitsOnCommand                 0.000000\n",
       "SitComments                  86.240067\n",
       "DownOnCommand                 0.000000\n",
       "DownComments                 81.932246\n",
       "StaysOnCommand                0.000000\n",
       "StayComments                 63.550816\n",
       "ComeOnLeash                   0.000000\n",
       "ComeOnLeashComments          86.010038\n",
       "ComeOffLeash                  0.000000\n",
       "ComeOffLeashComments         67.043078\n",
       "CanGivePills                  0.000000\n",
       "PillsComments                72.333752\n",
       "EarCleaning                   0.000000\n",
       "EarsComments                 77.248013\n",
       "NailCutting                   0.020912\n",
       "NailsComments                55.959849\n",
       "AttendsClasses                0.041824\n",
       "AttendClassesComments        97.595148\n",
       "NumberClasses3Months          5.625261\n",
       "BehavesWellClass              0.000000\n",
       "AttendsHomeSwitches           0.000000\n",
       "NbrOvernights3Mo              8.720201\n",
       "GeneralComments              39.983271\n",
       "dtype: float64"
      ]
     },
     "execution_count": 110,
     "metadata": {},
     "output_type": "execute_result"
    }
   ],
   "source": [
    "(1.0-puppyinfo.count() / len(puppyinfo)) * 100.0"
   ]
  },
  {
   "cell_type": "code",
   "execution_count": 125,
   "metadata": {
    "collapsed": true
   },
   "outputs": [],
   "source": [
    "target_for_values = {\n",
    "    'Black': ['B','Bl','Bl','blac','black (and beautiful)','blck,','Blk','Blk.','blsck','back','black']}\n",
    "\n",
    "for k, v in target_for_values.items():\n",
    "    puppyinfo.loc[puppyinfo.Color.isin(v), 'Color'] = k"
   ]
  },
  {
   "cell_type": "code",
   "execution_count": 126,
   "metadata": {
    "collapsed": false
   },
   "outputs": [],
   "source": [
    "target_for_values = {\n",
    "    'Black/tan': ['B & T','b/t','B&T','B+T','bl and tan','Black & Tan','Black &tan','Black + Tan','Black and ran','Black and tan','Black and tan (?)','Black Brown','black tan','black w/ tan','Black, tan','Black, tan, silver','Black,tan','Black/ Tan','black/brown','Black/Tan','black+ tan','Blk & Tan','Blk and Tan','Blk/Tan','Brown & Black','brown black','Brown-Black','Brown, black','Brown/Black','Brown/Black/Tan','Coated Black','tan and black','Tan/Black']}\n",
    "\n",
    "for k, v in target_for_values.items():\n",
    "    puppyinfo.loc[puppyinfo.Color.isin(v), 'Color'] = k"
   ]
  },
  {
   "cell_type": "code",
   "execution_count": 127,
   "metadata": {
    "collapsed": false
   },
   "outputs": [],
   "source": [
    "target_for_values = {\n",
    "    'Black/tan': ['B & T','b/t','B&T','B+T','bl and tan','Black & Tan','Black &tan','Black + Tan','Black and ran','Black and tan','Black and tan (?)','Black Brown','black tan','black w/ tan','Black, tan','Black, tan, silver','Black,tan','Black/ Tan','black/brown','Black/Tan','black+ tan','Blk & Tan','Blk and Tan','Blk/Tan','Brown & Black','brown black','Brown-Black','Brown, black','Brown/Black','Brown/Black/Tan','Coated Black','tan and black','Tan/Black','black and tan','Black and Tan']}\n",
    "\n",
    "for k, v in target_for_values.items():\n",
    "    puppyinfo.loc[puppyinfo.Color.isin(v), 'Color'] = k"
   ]
  },
  {
   "cell_type": "code",
   "execution_count": 128,
   "metadata": {
    "collapsed": true
   },
   "outputs": [],
   "source": [
    "target_for_values = {\n",
    "    'Black/tan': ['B & T','b/t','B&T','B+T','bl and tan','Black & Tan','Black &tan','Black + Tan','Black and ran','Black and tan','Black and tan (?)','Black Brown','black tan','black w/ tan','Black, tan','Black, tan, silver','Black,tan','Black/ Tan','black/brown','Black/Tan','black+ tan','Blk & Tan','Blk and Tan','Blk/Tan','Brown & Black','brown black','Brown-Black','Brown, black','Brown/Black','Brown/Black/Tan','Coated Black','tan and black','Tan/Black','black and tan','Black and Tan','Bicolor (Black & red)','Bicolor (black w/ brown legs)','Black & red','Black and ran','Black and Red','black and white','Tri','Tri color']}\n",
    "\n",
    "for k, v in target_for_values.items():\n",
    "    puppyinfo.loc[puppyinfo.Color.isin(v), 'Color'] = k"
   ]
  },
  {
   "cell_type": "code",
   "execution_count": 129,
   "metadata": {
    "collapsed": true
   },
   "outputs": [],
   "source": [
    "target_for_values = {\n",
    "    'Black': ['B','Bl','Bl','blac','black (and beautiful)','blck,','Blk','Blk.','blsck','back','black','BLACK','blk','BLK','color','lab']}\n",
    "\n",
    "for k, v in target_for_values.items():\n",
    "    puppyinfo.loc[puppyinfo.Color.isin(v), 'Color'] = k"
   ]
  },
  {
   "cell_type": "code",
   "execution_count": 130,
   "metadata": {
    "collapsed": true
   },
   "outputs": [],
   "source": [
    "target_for_values = {\n",
    "    'Black/tan': ['B & T','b/t','B&T','B+T','bl and tan','Black & Tan','Black &tan','Black + Tan','Black and ran','Black and tan','Black and tan (?)','Black Brown','black tan','black w/ tan','Black, tan','Black, tan, silver','Black,tan','Black/ Tan','black/brown','Black/Tan','black+ tan','Blk & Tan','Blk and Tan','Blk/Tan','Brown & Black','brown black','Brown-Black','Brown, black','Brown/Black','Brown/Black/Tan','Coated Black','tan and black','Tan/Black','black and tan','Black and Tan','Bicolor (Black & red)','Bicolor (black w/ brown legs)','Black & red','Black and ran','Black and Red','black and white','Tri','Tri color','Brindle','GSD']}\n",
    "\n",
    "for k, v in target_for_values.items():\n",
    "    puppyinfo.loc[puppyinfo.Color.isin(v), 'Color'] = k"
   ]
  },
  {
   "cell_type": "code",
   "execution_count": 131,
   "metadata": {
    "collapsed": true
   },
   "outputs": [],
   "source": [
    "target_for_values = {\n",
    "    'Yellow': ['blond','Blond/Yellow','Blonde','blondelab lode','Butterscotch','Carmel Yellow','cream','Cream','darkish brown','fox red','Gold','gold','golden','GOLDEN','Golden Yellow','Lab','light tan','light yellow','Light Yellow','red','Red','Red Fox','Rust','Tan','tan','WELLOW','Wheat','white','White','White and yellow','White/Yellow','Y','y','yel','Yel','Yellllow','Yello','YELLO','yello','yelloiw','Yellow','yellow','YELLOW','Yellow - Dark','Yellow (red)','Yellow & White','yellow lab','Yellow with black trim','Yellow/Butterscotch','yellow/cream','Yellow/White','yellow1','yellowf']}\n",
    "    \n",
    "for k, v in target_for_values.items():\n",
    "    puppyinfo.loc[puppyinfo.Color.isin(v), 'Color'] = k"
   ]
  },
  {
   "cell_type": "code",
   "execution_count": 132,
   "metadata": {
    "collapsed": false
   },
   "outputs": [],
   "source": [
    "target_for_values = {\n",
    "    'Golden': ['camel','golden/red','goldish','honey','Light Golden','Medium Gold','red/gold','reddish gold','warm gold','warm honey']}\n",
    "\n",
    "for k, v in target_for_values.items():\n",
    "    puppyinfo.loc[puppyinfo.Color.isin(v), 'Color'] = k"
   ]
  },
  {
   "cell_type": "code",
   "execution_count": 133,
   "metadata": {
    "collapsed": true
   },
   "outputs": [],
   "source": [
    "target_for_values = {\n",
    "    'Sable': ['Coated Sable','Sable','sable']}\n",
    " \n",
    "for k, v in target_for_values.items():\n",
    "    puppyinfo.loc[puppyinfo.Color.isin(v), 'Color'] = k  "
   ]
  },
  {
   "cell_type": "code",
   "execution_count": 135,
   "metadata": {
    "collapsed": true
   },
   "outputs": [],
   "source": [
    "target_for_values = {\n",
    "    'Black/tan': ['B & T','b/t','B&T','B+T','bl and tan','Black & Tan','Black &tan','Black + Tan','Black and ran','Black and tan','Black and tan (?)','Black Brown','black tan','black w/ tan','Black, tan','Black, tan, silver','Black,tan','Black/ Tan','black/brown','Black/Tan','black+ tan','Blk & Tan','Blk and Tan','Blk/Tan','Brown & Black','brown black','Brown-Black','Brown, black','Brown/Black','Brown/Black/Tan','Coated Black','tan and black','Tan/Black','black and tan','Black and Tan','Bicolor (Black & red)','Bicolor (black w/ brown legs)','Black & red','Black and ran','Black and Red','black and white','Tri','Tri color','Brindle','GSD','B/T','b&t','Black / Tan','black & tan','black, tan','Black/tan','blk and tan','Blk/TAn','tan/black']}\n",
    "\n",
    "for k, v in target_for_values.items():\n",
    "    puppyinfo.loc[puppyinfo.Color.isin(v), 'Color'] = k"
   ]
  },
  {
   "cell_type": "code",
   "execution_count": 136,
   "metadata": {
    "collapsed": true
   },
   "outputs": [],
   "source": [
    "target_for_values = {\n",
    "    'Yellow': ['blond','Blond/Yellow','Blonde','blondelab lode','Butterscotch','Carmel Yellow','cream','Cream','darkish brown','fox red','Gold','gold','golden','GOLDEN','Golden Yellow','Lab','light tan','light yellow','Light Yellow','red','Red','Red Fox','Rust','Tan','tan','WELLOW','Wheat','white','White','White and yellow','White/Yellow','Y','y','yel','Yel','Yellllow','Yello','YELLO','yello','yelloiw','Yellow','yellow','YELLOW','Yellow - Dark','Yellow (red)','Yellow & White','yellow lab','Yellow with black trim','Yellow/Butterscotch','yellow/cream','Yellow/White','yellow1','yellowf','Light yellow','Yellowf']}\n",
    "    \n",
    "for k, v in target_for_values.items():\n",
    "    puppyinfo.loc[puppyinfo.Color.isin(v), 'Color'] = k"
   ]
  },
  {
   "cell_type": "code",
   "execution_count": 137,
   "metadata": {
    "collapsed": true
   },
   "outputs": [],
   "source": [
    "target_for_values = {\n",
    "    'Golden': ['camel','golden/red','goldish','honey','Light Golden','Medium Gold','red/gold','reddish gold','warm gold','warm honey','Tan/Gold']}\n",
    "\n",
    "for k, v in target_for_values.items():\n",
    "    puppyinfo.loc[puppyinfo.Color.isin(v), 'Color'] = k"
   ]
  },
  {
   "cell_type": "code",
   "execution_count": 138,
   "metadata": {
    "collapsed": false
   },
   "outputs": [],
   "source": [
    "target_for_values = {\n",
    "    'Black/tan': ['B & T','b/t','B&T','B+T','bl and tan','Black & Tan','Black &tan','Black + Tan','Black and ran','Black and tan','Black and tan (?)','Black Brown','black tan','black w/ tan','Black, tan','Black, tan, silver','Black,tan','Black/ Tan','black/brown','Black/Tan','black+ tan','Blk & Tan','Blk and Tan','Blk/Tan','Brown & Black','brown black','Brown-Black','Brown, black','Brown/Black','Brown/Black/Tan','Coated Black','tan and black','Tan/Black','black and tan','Black and Tan','Bicolor (Black & red)','Bicolor (black w/ brown legs)','Black & red','Black and ran','Black and Red','black and white','Tri','Tri color','Brindle','GSD','B/T','b&t','Black / Tan','black & tan','black, tan','Black/tan','blk and tan','Blk/TAn','tan/black','Blk and tan','Black & tan','black/tan',]}\n",
    "\n",
    "for k, v in target_for_values.items():\n",
    "    puppyinfo.loc[puppyinfo.Color.isin(v), 'Color'] = k"
   ]
  },
  {
   "cell_type": "code",
   "execution_count": 139,
   "metadata": {
    "collapsed": false
   },
   "outputs": [
    {
     "data": {
      "text/plain": [
       "array(['Black', 'Yellow', 'Black/tan', 'blck', 'Sable', 'Golden', 'Back',\n",
       "       ' Black', 'Color', 'BLK.', 'BLack', nan], dtype=object)"
      ]
     },
     "execution_count": 139,
     "metadata": {},
     "output_type": "execute_result"
    }
   ],
   "source": [
    "puppyinfo.Color.unique()"
   ]
  },
  {
   "cell_type": "code",
   "execution_count": 141,
   "metadata": {
    "collapsed": false
   },
   "outputs": [],
   "source": [
    "target_for_values = {\n",
    "    'Black': ['B','Bl','Bl','blac','black (and beautiful)','blck,','Blk','Blk.','blsck','back','black','BLACK','blk','BLK','color','lab',' Black','blck','Back','BLK.','BLack','nan']}\n",
    "for k, v in target_for_values.items():\n",
    "    puppyinfo.loc[puppyinfo.Color.isin(v), 'Color'] = k"
   ]
  },
  {
   "cell_type": "code",
   "execution_count": 142,
   "metadata": {
    "collapsed": false
   },
   "outputs": [
    {
     "data": {
      "text/plain": [
       "array(['Black', 'Yellow', 'Black/tan', 'Sable', 'Golden', 'Color', nan], dtype=object)"
      ]
     },
     "execution_count": 142,
     "metadata": {},
     "output_type": "execute_result"
    }
   ],
   "source": [
    "puppyinfo.Color.unique()"
   ]
  },
  {
   "cell_type": "code",
   "execution_count": 143,
   "metadata": {
    "collapsed": false
   },
   "outputs": [
    {
     "data": {
      "text/plain": [
       "Yellow       2281\n",
       "Black        2083\n",
       "Black/tan     348\n",
       "Sable          40\n",
       "Golden         26\n",
       "Color           1\n",
       "Name: Color, dtype: int64"
      ]
     },
     "execution_count": 143,
     "metadata": {},
     "output_type": "execute_result"
    }
   ],
   "source": [
    "puppyinfo['Color'].value_counts()"
   ]
  },
  {
   "cell_type": "code",
   "execution_count": 144,
   "metadata": {
    "collapsed": true
   },
   "outputs": [],
   "source": [
    "target_for_values = {\n",
    "    'Yellow': ['blond','Blond/Yellow','Blonde','blondelab lode','Butterscotch','Carmel Yellow','cream','Cream','darkish brown','fox red','Gold','gold','golden','GOLDEN','Golden Yellow','Lab','light tan','light yellow','Light Yellow','red','Red','Red Fox','Rust','Tan','tan','WELLOW','Wheat','white','White','White and yellow','White/Yellow','Y','y','yel','Yel','Yellllow','Yello','YELLO','yello','yelloiw','Yellow','yellow','YELLOW','Yellow - Dark','Yellow (red)','Yellow & White','yellow lab','Yellow with black trim','Yellow/Butterscotch','yellow/cream','Yellow/White','yellow1','yellowf','Light yellow','Yellowf','Color']}\n",
    "    \n",
    "for k, v in target_for_values.items():\n",
    "    puppyinfo.loc[puppyinfo.Color.isin(v), 'Color'] = k"
   ]
  },
  {
   "cell_type": "code",
   "execution_count": 145,
   "metadata": {
    "collapsed": false
   },
   "outputs": [
    {
     "data": {
      "text/plain": [
       "Yellow       2282\n",
       "Black        2083\n",
       "Black/tan     348\n",
       "Sable          40\n",
       "Golden         26\n",
       "Name: Color, dtype: int64"
      ]
     },
     "execution_count": 145,
     "metadata": {},
     "output_type": "execute_result"
    }
   ],
   "source": [
    "puppyinfo['Color'].value_counts()"
   ]
  },
  {
   "cell_type": "code",
   "execution_count": 146,
   "metadata": {
    "collapsed": false
   },
   "outputs": [
    {
     "data": {
      "text/plain": [
       "array(['Black', 'Yellow', 'Black/tan', 'Sable', 'Golden', nan], dtype=object)"
      ]
     },
     "execution_count": 146,
     "metadata": {},
     "output_type": "execute_result"
    }
   ],
   "source": [
    "puppyinfo.Color.unique()"
   ]
  },
  {
   "cell_type": "code",
   "execution_count": 147,
   "metadata": {
    "collapsed": true
   },
   "outputs": [],
   "source": [
    "puppyinfo.to_csv(\"color.csv\")"
   ]
  },
  {
   "cell_type": "code",
   "execution_count": 148,
   "metadata": {
    "collapsed": true
   },
   "outputs": [],
   "source": [
    "#Replaced missing values with Black"
   ]
  },
  {
   "cell_type": "code",
   "execution_count": 149,
   "metadata": {
    "collapsed": false
   },
   "outputs": [],
   "source": [
    "puppyinfo['Color'].fillna('Black',inplace = True)"
   ]
  },
  {
   "cell_type": "code",
   "execution_count": 150,
   "metadata": {
    "collapsed": false
   },
   "outputs": [],
   "source": [
    "puppyinfo['Color']=puppyinfo['Color'].map({'Yellow':1, 'Black':2, 'Black/tan':3, 'Sable':4, 'Golden':5}).astype(int)"
   ]
  },
  {
   "cell_type": "code",
   "execution_count": 151,
   "metadata": {
    "collapsed": true
   },
   "outputs": [],
   "source": [
    "puppyinfo.to_csv('Color_processed.csv')"
   ]
  },
  {
   "cell_type": "code",
   "execution_count": 152,
   "metadata": {
    "collapsed": false
   },
   "outputs": [
    {
     "data": {
      "text/plain": [
       "5.0    3393\n",
       "4.0     771\n",
       "0.0     417\n",
       "3.0     135\n",
       "1.0      41\n",
       "2.0      23\n",
       "Name: AttendsClasses, dtype: int64"
      ]
     },
     "execution_count": 152,
     "metadata": {},
     "output_type": "execute_result"
    }
   ],
   "source": [
    "puppyinfo['AttendsClasses'].value_counts()"
   ]
  },
  {
   "cell_type": "code",
   "execution_count": 153,
   "metadata": {
    "collapsed": true
   },
   "outputs": [],
   "source": [
    "#Replaced missing values with 4.0[mean was 796 which is close to 4.0 cetegory]"
   ]
  },
  {
   "cell_type": "code",
   "execution_count": 154,
   "metadata": {
    "collapsed": true
   },
   "outputs": [],
   "source": [
    "puppyinfo['AttendsClasses'].fillna(4.0,inplace = True)"
   ]
  },
  {
   "cell_type": "code",
   "execution_count": 155,
   "metadata": {
    "collapsed": false
   },
   "outputs": [
    {
     "data": {
      "text/plain": [
       "5.0    3393\n",
       "4.0     773\n",
       "0.0     417\n",
       "3.0     135\n",
       "1.0      41\n",
       "2.0      23\n",
       "Name: AttendsClasses, dtype: int64"
      ]
     },
     "execution_count": 155,
     "metadata": {},
     "output_type": "execute_result"
    }
   ],
   "source": [
    "puppyinfo['AttendsClasses'].value_counts()"
   ]
  },
  {
   "cell_type": "code",
   "execution_count": 156,
   "metadata": {
    "collapsed": true
   },
   "outputs": [],
   "source": [
    "puppyinfo.to_csv('Color_processed.csv')"
   ]
  },
  {
   "cell_type": "code",
   "execution_count": null,
   "metadata": {
    "collapsed": true
   },
   "outputs": [],
   "source": []
  }
 ],
 "metadata": {
  "anaconda-cloud": {},
  "kernelspec": {
   "display_name": "Python [Root]",
   "language": "python",
   "name": "Python [Root]"
  },
  "language_info": {
   "codemirror_mode": {
    "name": "ipython",
    "version": 3
   },
   "file_extension": ".py",
   "mimetype": "text/x-python",
   "name": "python",
   "nbconvert_exporter": "python",
   "pygments_lexer": "ipython3",
   "version": "3.5.2"
  }
 },
 "nbformat": 4,
 "nbformat_minor": 0
}
